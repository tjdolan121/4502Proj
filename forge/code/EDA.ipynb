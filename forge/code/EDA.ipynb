{
 "cells": [
  {
   "cell_type": "markdown",
   "metadata": {},
   "source": [
    "# Exploratory Data Analysis"
   ]
  },
  {
   "cell_type": "markdown",
   "metadata": {},
   "source": [
    "## Imports"
   ]
  },
  {
   "cell_type": "code",
   "execution_count": 130,
   "metadata": {},
   "outputs": [],
   "source": [
    "# Std lib:\n",
    "import warnings\n",
    "\n",
    "# Data manipulation:\n",
    "import numpy as np\n",
    "import pandas as pd\n",
    "import geopandas\n",
    "from shapely.geometry import Point, Polygon\n",
    "\n",
    "# Visualization:\n",
    "import matplotlib.pyplot as plt\n",
    "from matplotlib import style\n",
    "import seaborn as sns\n",
    "%matplotlib inline\n",
    "style.use('seaborn')\n",
    "\n",
    "# Display all columns in Jupyter:\n",
    "from IPython.display import display\n",
    "pd.options.display.max_columns = None\n",
    "\n",
    "# Filter Warnings\n",
    "warnings.filterwarnings('ignore')"
   ]
  },
  {
   "cell_type": "markdown",
   "metadata": {},
   "source": [
    "## Pull in the Data"
   ]
  },
  {
   "cell_type": "code",
   "execution_count": 131,
   "metadata": {},
   "outputs": [],
   "source": [
    "datatypes = {'block': 'object',\n",
    "             'iucr': 'object',\n",
    "             'primary_type': 'object',\n",
    "             'description': 'object',\n",
    "             'location_description': 'object',\n",
    "             'arrest': 'bool',\n",
    "             'domestic': 'bool',\n",
    "             'beat': 'int64',\n",
    "             'district': 'float64',\n",
    "             'ward': 'float64',\n",
    "             'community_area': 'int64',\n",
    "             'fbi_code': 'object',\n",
    "             'x_coordinate': 'float64',\n",
    "             'y_coordinate': 'float64',\n",
    "             'year': 'int64',\n",
    "             'latitude': 'float64',\n",
    "             'longitude': 'float64',\n",
    "             'location': 'object',\n",
    "             'month': 'uint8',\n",
    "             'hour': 'uint8',\n",
    "             'dayofweek': 'uint8',\n",
    "             'weekend': 'bool',\n",
    "             'fbi_code_description': 'category',\n",
    "             'CF': 'float64',\n",
    "             'CF3': 'float64',\n",
    "             'PI': 'float64',\n",
    "             'EUH': 'float64',\n",
    "             'CH': 'float64',\n",
    "             'SOI': 'float64'}"
   ]
  },
  {
   "cell_type": "code",
   "execution_count": 132,
   "metadata": {},
   "outputs": [],
   "source": [
    "path_to_data = # Enter your local path to data\n",
    "df = pd.read_csv(path_to_data, dtype=datatypes)"
   ]
  },
  {
   "cell_type": "code",
   "execution_count": 133,
   "metadata": {},
   "outputs": [
    {
     "data": {
      "text/html": [
       "<div>\n",
       "<style scoped>\n",
       "    .dataframe tbody tr th:only-of-type {\n",
       "        vertical-align: middle;\n",
       "    }\n",
       "\n",
       "    .dataframe tbody tr th {\n",
       "        vertical-align: top;\n",
       "    }\n",
       "\n",
       "    .dataframe thead th {\n",
       "        text-align: right;\n",
       "    }\n",
       "</style>\n",
       "<table border=\"1\" class=\"dataframe\">\n",
       "  <thead>\n",
       "    <tr style=\"text-align: right;\">\n",
       "      <th></th>\n",
       "      <th>date</th>\n",
       "      <th>block</th>\n",
       "      <th>iucr</th>\n",
       "      <th>primary_type</th>\n",
       "      <th>description</th>\n",
       "      <th>location_description</th>\n",
       "      <th>arrest</th>\n",
       "      <th>domestic</th>\n",
       "      <th>beat</th>\n",
       "      <th>district</th>\n",
       "      <th>ward</th>\n",
       "      <th>community_area</th>\n",
       "      <th>fbi_code</th>\n",
       "      <th>x_coordinate</th>\n",
       "      <th>y_coordinate</th>\n",
       "      <th>year</th>\n",
       "      <th>latitude</th>\n",
       "      <th>longitude</th>\n",
       "      <th>location</th>\n",
       "      <th>month</th>\n",
       "      <th>hour</th>\n",
       "      <th>dayofweek</th>\n",
       "      <th>weekend</th>\n",
       "      <th>fbi_code_description</th>\n",
       "      <th>geometry</th>\n",
       "      <th>CF</th>\n",
       "      <th>CF3</th>\n",
       "      <th>PI</th>\n",
       "      <th>EUH</th>\n",
       "      <th>CH</th>\n",
       "      <th>SOI</th>\n",
       "    </tr>\n",
       "  </thead>\n",
       "  <tbody>\n",
       "    <tr>\n",
       "      <th>0</th>\n",
       "      <td>2019-05-24 22:48:00+00:00</td>\n",
       "      <td>130XX S EXCHANGE AVE</td>\n",
       "      <td>0498</td>\n",
       "      <td>BATTERY</td>\n",
       "      <td>AGGRAVATED DOMESTIC BATTERY: HANDS/FIST/FEET S...</td>\n",
       "      <td>RESIDENCE</td>\n",
       "      <td>False</td>\n",
       "      <td>True</td>\n",
       "      <td>433</td>\n",
       "      <td>4.0</td>\n",
       "      <td>10.0</td>\n",
       "      <td>55</td>\n",
       "      <td>04B</td>\n",
       "      <td>1197765.0</td>\n",
       "      <td>1819090.0</td>\n",
       "      <td>2019</td>\n",
       "      <td>41.658424</td>\n",
       "      <td>-87.551978</td>\n",
       "      <td>(41.658424474, -87.551978488)</td>\n",
       "      <td>5</td>\n",
       "      <td>22</td>\n",
       "      <td>4</td>\n",
       "      <td>False</td>\n",
       "      <td>Assault</td>\n",
       "      <td>POINT (-87.551978488 41.658424474)</td>\n",
       "      <td>-0.038356</td>\n",
       "      <td>-0.212009</td>\n",
       "      <td>0.00874</td>\n",
       "      <td>-0.014736</td>\n",
       "      <td>-0.027105</td>\n",
       "      <td>-0.005254</td>\n",
       "    </tr>\n",
       "    <tr>\n",
       "      <th>1</th>\n",
       "      <td>2019-05-18 06:00:00+00:00</td>\n",
       "      <td>008XX E 100TH PL</td>\n",
       "      <td>1153</td>\n",
       "      <td>DECEPTIVE PRACTICE</td>\n",
       "      <td>FINANCIAL IDENTITY THEFT OVER $ 300</td>\n",
       "      <td>OTHER</td>\n",
       "      <td>False</td>\n",
       "      <td>False</td>\n",
       "      <td>511</td>\n",
       "      <td>5.0</td>\n",
       "      <td>8.0</td>\n",
       "      <td>50</td>\n",
       "      <td>11</td>\n",
       "      <td>1183760.0</td>\n",
       "      <td>1838243.0</td>\n",
       "      <td>2019</td>\n",
       "      <td>41.711320</td>\n",
       "      <td>-87.602631</td>\n",
       "      <td>(41.711319868, -87.602630978)</td>\n",
       "      <td>5</td>\n",
       "      <td>6</td>\n",
       "      <td>5</td>\n",
       "      <td>True</td>\n",
       "      <td>Shots Fired</td>\n",
       "      <td>POINT (-87.60263097799999 41.711319868)</td>\n",
       "      <td>-0.038356</td>\n",
       "      <td>-0.212009</td>\n",
       "      <td>0.00874</td>\n",
       "      <td>-0.014736</td>\n",
       "      <td>-0.027105</td>\n",
       "      <td>-0.005254</td>\n",
       "    </tr>\n",
       "    <tr>\n",
       "      <th>2</th>\n",
       "      <td>2019-05-10 12:00:00+00:00</td>\n",
       "      <td>059XX N OCONTO AVE</td>\n",
       "      <td>1153</td>\n",
       "      <td>DECEPTIVE PRACTICE</td>\n",
       "      <td>FINANCIAL IDENTITY THEFT OVER $ 300</td>\n",
       "      <td>OTHER</td>\n",
       "      <td>False</td>\n",
       "      <td>False</td>\n",
       "      <td>1612</td>\n",
       "      <td>16.0</td>\n",
       "      <td>41.0</td>\n",
       "      <td>10</td>\n",
       "      <td>11</td>\n",
       "      <td>1126974.0</td>\n",
       "      <td>1938858.0</td>\n",
       "      <td>2019</td>\n",
       "      <td>41.988558</td>\n",
       "      <td>-87.808346</td>\n",
       "      <td>(41.988558252, -87.80834608)</td>\n",
       "      <td>5</td>\n",
       "      <td>12</td>\n",
       "      <td>4</td>\n",
       "      <td>False</td>\n",
       "      <td>Shots Fired</td>\n",
       "      <td>POINT (-87.80834608000001 41.988558252)</td>\n",
       "      <td>-0.038356</td>\n",
       "      <td>-0.212009</td>\n",
       "      <td>0.00874</td>\n",
       "      <td>-0.014736</td>\n",
       "      <td>-0.027105</td>\n",
       "      <td>-0.005254</td>\n",
       "    </tr>\n",
       "    <tr>\n",
       "      <th>3</th>\n",
       "      <td>2019-05-18 09:30:00+00:00</td>\n",
       "      <td>052XX S ARCHER AVE</td>\n",
       "      <td>1206</td>\n",
       "      <td>DECEPTIVE PRACTICE</td>\n",
       "      <td>THEFT BY LESSEE,MOTOR VEH</td>\n",
       "      <td>OTHER</td>\n",
       "      <td>True</td>\n",
       "      <td>False</td>\n",
       "      <td>815</td>\n",
       "      <td>8.0</td>\n",
       "      <td>23.0</td>\n",
       "      <td>57</td>\n",
       "      <td>11</td>\n",
       "      <td>1146707.0</td>\n",
       "      <td>1870103.0</td>\n",
       "      <td>2019</td>\n",
       "      <td>41.799532</td>\n",
       "      <td>-87.737521</td>\n",
       "      <td>(41.799532089, -87.737521099)</td>\n",
       "      <td>5</td>\n",
       "      <td>9</td>\n",
       "      <td>5</td>\n",
       "      <td>True</td>\n",
       "      <td>Shots Fired</td>\n",
       "      <td>POINT (-87.73752109900001 41.799532089)</td>\n",
       "      <td>-0.038356</td>\n",
       "      <td>-0.212009</td>\n",
       "      <td>0.00874</td>\n",
       "      <td>-0.014736</td>\n",
       "      <td>-0.027105</td>\n",
       "      <td>-0.005254</td>\n",
       "    </tr>\n",
       "    <tr>\n",
       "      <th>4</th>\n",
       "      <td>2019-05-09 09:00:00+00:00</td>\n",
       "      <td>051XX S WENTWORTH AVE</td>\n",
       "      <td>1154</td>\n",
       "      <td>DECEPTIVE PRACTICE</td>\n",
       "      <td>FINANCIAL IDENTITY THEFT $300 AND UNDER</td>\n",
       "      <td>POLICE FACILITY/VEH PARKING LOT</td>\n",
       "      <td>False</td>\n",
       "      <td>False</td>\n",
       "      <td>225</td>\n",
       "      <td>2.0</td>\n",
       "      <td>3.0</td>\n",
       "      <td>37</td>\n",
       "      <td>11</td>\n",
       "      <td>1175826.0</td>\n",
       "      <td>1871120.0</td>\n",
       "      <td>2019</td>\n",
       "      <td>41.801719</td>\n",
       "      <td>-87.630704</td>\n",
       "      <td>(41.80171934, -87.630703621)</td>\n",
       "      <td>5</td>\n",
       "      <td>9</td>\n",
       "      <td>3</td>\n",
       "      <td>False</td>\n",
       "      <td>Shots Fired</td>\n",
       "      <td>POINT (-87.63070362099999 41.80171934)</td>\n",
       "      <td>-0.038356</td>\n",
       "      <td>-0.212009</td>\n",
       "      <td>0.00874</td>\n",
       "      <td>-0.014736</td>\n",
       "      <td>-0.027105</td>\n",
       "      <td>-0.005254</td>\n",
       "    </tr>\n",
       "  </tbody>\n",
       "</table>\n",
       "</div>"
      ],
      "text/plain": [
       "                        date                  block  iucr        primary_type  \\\n",
       "0  2019-05-24 22:48:00+00:00   130XX S EXCHANGE AVE  0498             BATTERY   \n",
       "1  2019-05-18 06:00:00+00:00       008XX E 100TH PL  1153  DECEPTIVE PRACTICE   \n",
       "2  2019-05-10 12:00:00+00:00     059XX N OCONTO AVE  1153  DECEPTIVE PRACTICE   \n",
       "3  2019-05-18 09:30:00+00:00     052XX S ARCHER AVE  1206  DECEPTIVE PRACTICE   \n",
       "4  2019-05-09 09:00:00+00:00  051XX S WENTWORTH AVE  1154  DECEPTIVE PRACTICE   \n",
       "\n",
       "                                         description  \\\n",
       "0  AGGRAVATED DOMESTIC BATTERY: HANDS/FIST/FEET S...   \n",
       "1                FINANCIAL IDENTITY THEFT OVER $ 300   \n",
       "2                FINANCIAL IDENTITY THEFT OVER $ 300   \n",
       "3                          THEFT BY LESSEE,MOTOR VEH   \n",
       "4            FINANCIAL IDENTITY THEFT $300 AND UNDER   \n",
       "\n",
       "              location_description  arrest  domestic  beat  district  ward  \\\n",
       "0                        RESIDENCE   False      True   433       4.0  10.0   \n",
       "1                            OTHER   False     False   511       5.0   8.0   \n",
       "2                            OTHER   False     False  1612      16.0  41.0   \n",
       "3                            OTHER    True     False   815       8.0  23.0   \n",
       "4  POLICE FACILITY/VEH PARKING LOT   False     False   225       2.0   3.0   \n",
       "\n",
       "   community_area fbi_code  x_coordinate  y_coordinate  year   latitude  \\\n",
       "0              55      04B     1197765.0     1819090.0  2019  41.658424   \n",
       "1              50       11     1183760.0     1838243.0  2019  41.711320   \n",
       "2              10       11     1126974.0     1938858.0  2019  41.988558   \n",
       "3              57       11     1146707.0     1870103.0  2019  41.799532   \n",
       "4              37       11     1175826.0     1871120.0  2019  41.801719   \n",
       "\n",
       "   longitude                       location  month  hour  dayofweek  weekend  \\\n",
       "0 -87.551978  (41.658424474, -87.551978488)      5    22          4    False   \n",
       "1 -87.602631  (41.711319868, -87.602630978)      5     6          5     True   \n",
       "2 -87.808346   (41.988558252, -87.80834608)      5    12          4    False   \n",
       "3 -87.737521  (41.799532089, -87.737521099)      5     9          5     True   \n",
       "4 -87.630704   (41.80171934, -87.630703621)      5     9          3    False   \n",
       "\n",
       "  fbi_code_description                                 geometry        CF  \\\n",
       "0              Assault       POINT (-87.551978488 41.658424474) -0.038356   \n",
       "1          Shots Fired  POINT (-87.60263097799999 41.711319868) -0.038356   \n",
       "2          Shots Fired  POINT (-87.80834608000001 41.988558252) -0.038356   \n",
       "3          Shots Fired  POINT (-87.73752109900001 41.799532089) -0.038356   \n",
       "4          Shots Fired   POINT (-87.63070362099999 41.80171934) -0.038356   \n",
       "\n",
       "        CF3       PI       EUH        CH       SOI  \n",
       "0 -0.212009  0.00874 -0.014736 -0.027105 -0.005254  \n",
       "1 -0.212009  0.00874 -0.014736 -0.027105 -0.005254  \n",
       "2 -0.212009  0.00874 -0.014736 -0.027105 -0.005254  \n",
       "3 -0.212009  0.00874 -0.014736 -0.027105 -0.005254  \n",
       "4 -0.212009  0.00874 -0.014736 -0.027105 -0.005254  "
      ]
     },
     "execution_count": 133,
     "metadata": {},
     "output_type": "execute_result"
    }
   ],
   "source": [
    "df.head()"
   ]
  },
  {
   "cell_type": "code",
   "execution_count": 134,
   "metadata": {},
   "outputs": [],
   "source": [
    "## TODO: Convert date to date time object and convert geometry to geopandas geometry object"
   ]
  },
  {
   "cell_type": "code",
   "execution_count": 135,
   "metadata": {},
   "outputs": [],
   "source": [
    "df['date']= pd.to_datetime(df['date'])"
   ]
  },
  {
   "cell_type": "code",
   "execution_count": 136,
   "metadata": {},
   "outputs": [
    {
     "name": "stdout",
     "output_type": "stream",
     "text": [
      "<class 'pandas.core.frame.DataFrame'>\n",
      "RangeIndex: 923983 entries, 0 to 923982\n",
      "Data columns (total 31 columns):\n",
      "date                    923983 non-null datetime64[ns]\n",
      "block                   923983 non-null object\n",
      "iucr                    923983 non-null object\n",
      "primary_type            923983 non-null object\n",
      "description             923983 non-null object\n",
      "location_description    923983 non-null object\n",
      "arrest                  923983 non-null bool\n",
      "domestic                923983 non-null bool\n",
      "beat                    923983 non-null int64\n",
      "district                923983 non-null float64\n",
      "ward                    923983 non-null float64\n",
      "community_area          923983 non-null int64\n",
      "fbi_code                923983 non-null object\n",
      "x_coordinate            923983 non-null float64\n",
      "y_coordinate            923983 non-null float64\n",
      "year                    923983 non-null int64\n",
      "latitude                923983 non-null float64\n",
      "longitude               923983 non-null float64\n",
      "location                923983 non-null object\n",
      "month                   923983 non-null uint8\n",
      "hour                    923983 non-null uint8\n",
      "dayofweek               923983 non-null uint8\n",
      "weekend                 923983 non-null bool\n",
      "fbi_code_description    923983 non-null category\n",
      "geometry                923983 non-null object\n",
      "CF                      923983 non-null float64\n",
      "CF3                     923983 non-null float64\n",
      "PI                      923983 non-null float64\n",
      "EUH                     923983 non-null float64\n",
      "CH                      923983 non-null float64\n",
      "SOI                     923983 non-null float64\n",
      "dtypes: bool(3), category(1), datetime64[ns](1), float64(12), int64(3), object(8), uint8(3)\n",
      "memory usage: 175.4+ MB\n"
     ]
    }
   ],
   "source": [
    "# Check data types\n",
    "df.info()"
   ]
  },
  {
   "cell_type": "code",
   "execution_count": 137,
   "metadata": {},
   "outputs": [
    {
     "data": {
      "text/plain": [
       "(923983, 31)"
      ]
     },
     "execution_count": 137,
     "metadata": {},
     "output_type": "execute_result"
    }
   ],
   "source": [
    "# Check shape of data; about a million crime objects spanning 4 years, 31 attributes\n",
    "df.shape"
   ]
  },
  {
   "cell_type": "markdown",
   "metadata": {},
   "source": [
    "## EDA"
   ]
  },
  {
   "cell_type": "code",
   "execution_count": 138,
   "metadata": {},
   "outputs": [
    {
     "data": {
      "text/plain": [
       "primary_type\n",
       "THEFT                                216942\n",
       "BATTERY                              177153\n",
       "CRIMINAL DAMAGE                      100161\n",
       "ASSAULT                               72588\n",
       "DECEPTIVE PRACTICE                    59742\n",
       "OTHER OFFENSE                         59082\n",
       "NARCOTICS                             44134\n",
       "BURGLARY                              40550\n",
       "MOTOR VEHICLE THEFT                   36399\n",
       "ROBBERY                               34568\n",
       "CRIMINAL TRESPASS                     23418\n",
       "WEAPONS VIOLATION                     21701\n",
       "OFFENSE INVOLVING CHILDREN             7839\n",
       "PUBLIC PEACE VIOLATION                 5418\n",
       "INTERFERENCE WITH PUBLIC OFFICER       4426\n",
       "CRIM SEXUAL ASSAULT                    3930\n",
       "SEX OFFENSE                            3918\n",
       "PROSTITUTION                           2347\n",
       "HOMICIDE                               2295\n",
       "ARSON                                  1576\n",
       "CRIMINAL SEXUAL ASSAULT                1549\n",
       "LIQUOR LAW VIOLATION                    797\n",
       "STALKING                                733\n",
       "KIDNAPPING                              614\n",
       "INTIMIDATION                            582\n",
       "GAMBLING                                552\n",
       "CONCEALED CARRY LICENSE VIOLATION       530\n",
       "OBSCENITY                               258\n",
       "NON-CRIMINAL                             76\n",
       "PUBLIC INDECENCY                         41\n",
       "HUMAN TRAFFICKING                        35\n",
       "OTHER NARCOTIC VIOLATION                 24\n",
       "NON-CRIMINAL (SUBJECT SPECIFIED)          5\n",
       "dtype: int64"
      ]
     },
     "execution_count": 138,
     "metadata": {},
     "output_type": "execute_result"
    }
   ],
   "source": [
    "# What are the most frequent and least frequent types of crimes?\n",
    "df.groupby('primary_type').size().sort_values(ascending=False)"
   ]
  },
  {
   "cell_type": "markdown",
   "metadata": {},
   "source": [
    "From 2017-2020, the most frequent type of crime is theft in 216942 objects followed by battery and criminal damage as seen above. On the other hand, human trafficking and public indecency are some crime types that are least frequent. We can see a good general picture of the frequency of crime types."
   ]
  },
  {
   "cell_type": "code",
   "execution_count": 139,
   "metadata": {},
   "outputs": [
    {
     "data": {
      "text/plain": [
       "description\n",
       "SIMPLE                                               105120\n",
       "DOMESTIC BATTERY SIMPLE                               85932\n",
       "$500 AND UNDER                                        83129\n",
       "OVER $500                                             51370\n",
       "TO VEHICLE                                            48928\n",
       "TO PROPERTY                                           48392\n",
       "RETAIL THEFT                                          36351\n",
       "FROM BUILDING                                         35063\n",
       "AUTOMOBILE                                            31767\n",
       "FORCIBLE ENTRY                                        23776\n",
       "UNLAWFUL ENTRY                                        14049\n",
       "CREDIT CARD FRAUD                                     14005\n",
       "TO LAND                                               13668\n",
       "AGGRAVATED: HANDGUN                                   13418\n",
       "TELEPHONE THREAT                                      13401\n",
       "FINANCIAL IDENTITY THEFT OVER $ 300                   12144\n",
       "UNLAWFUL POSS OF HANDGUN                              11992\n",
       "ARMED: HANDGUN                                        10802\n",
       "STRONGARM - NO WEAPON                                  9602\n",
       "HARASSMENT BY ELECTRONIC MEANS                         9539\n",
       "HARASSMENT BY TELEPHONE                                9233\n",
       "AGGRAVATED: OTHER DANG WEAPON                          9090\n",
       "POSS: HEROIN(WHITE)                                    7985\n",
       "FRAUD OR CONFIDENCE GAME                               7729\n",
       "AGGRAVATED:KNIFE/CUTTING INSTR                         7632\n",
       "POCKET-PICKING                                         7471\n",
       "VIOLATE ORDER OF PROTECTION                            6066\n",
       "ILLEGAL USE CASH CARD                                  5092\n",
       "OTHER VEHICLE OFFENSE                                  4867\n",
       "TO RESIDENCE                                           4815\n",
       "                                                      ...  \n",
       "ATTEMPT AGG: OTHER DANG WEAPON                            1\n",
       "ARSONIST - FAIL TO REGISTER NEW ADDRESS                   1\n",
       "USE OF METAL PIERCING BULLETS                             1\n",
       "FOUND PASSPORT                                            1\n",
       "ATTEMPT STRONG ARM: NO WEAPON                             1\n",
       "GUN OFFENDER NOTIFICATION-NO CONTACT                      1\n",
       "ATTEMPT ARMED: HANDGUN                                    1\n",
       "VIOLENT OFFENDER - FAIL TO REGISTER NEW ADDRESS           1\n",
       "PIMPING                                                   1\n",
       "PATRONIZE JUVENILE PROSTITUTE                             1\n",
       "BIGAMY                                                    1\n",
       "AGGRAVATED PO: OTHER DANGEROUS WEAPON                     1\n",
       "ARSONIST - ANNUAL REGISTRATION                            1\n",
       "UNLAWFUL SALE - OTHER FIREARM                             1\n",
       "AGGRAVATED POLICE OFFICER - OTHER FIREARM                 1\n",
       "MANU/DELIVER:LOOK-ALIKE DRUG                              1\n",
       "MANUFACTURE / DELIVER - AMPHETAMINES                      1\n",
       "AGGRAVATED PROTECTED EMPLOYEE - OTHER FIREARM             1\n",
       "AGGRAVATED: HANDS / FIST / FEET NO / MINOR INJURY         1\n",
       "EMPLOY MINOR                                              1\n",
       "AGGRAVATED: HANDS / FIST / FEET SERIOUS INJURY            1\n",
       "SALE OF TOBACCO PRODUCTS TO MINOR                         1\n",
       "INVOLUNTARY MANSLAUGHTER                                  1\n",
       "AGGRAVATED DOMESTIC BATTERY - OTHER FIREARM               1\n",
       "SALE / DELIVER - DRUG PARAPHERNALIA                       1\n",
       "AIDING ARRESTEE ESCAPE                                    1\n",
       "CONT SUBS:FAIL TO MAINT RECORD                            1\n",
       "PROTECTED EMPLOYEE: HANDS NO / MIN INJURY                 1\n",
       "CAB OPERATION                                             1\n",
       "MINOR MISREPRESENT AGE                                    1\n",
       "Length: 475, dtype: int64"
      ]
     },
     "execution_count": 139,
     "metadata": {},
     "output_type": "execute_result"
    }
   ],
   "source": [
    "# What are the most common and least common descriptions of crimes?\n",
    "df.groupby('description').size().sort_values(ascending=False)"
   ]
  },
  {
   "cell_type": "markdown",
   "metadata": {},
   "source": [
    "From 2017-2020, the most common description of crimes is \"simple\" at 105120 rows followed by \"domestic battery simple\". (Notice that battery is also high on the crime type occurances)"
   ]
  },
  {
   "cell_type": "code",
   "execution_count": 140,
   "metadata": {},
   "outputs": [
    {
     "data": {
      "text/plain": [
       "location_description\n",
       "STREET                                             207815\n",
       "RESIDENCE                                          155568\n",
       "APARTMENT                                          124778\n",
       "SIDEWALK                                            71547\n",
       "OTHER                                               33342\n",
       "SMALL RETAIL STORE                                  24892\n",
       "PARKING LOT/GARAGE(NON.RESID.)                      24153\n",
       "RESTAURANT                                          23621\n",
       "ALLEY                                               18406\n",
       "VEHICLE NON-COMMERCIAL                              16411\n",
       "DEPARTMENT STORE                                    15701\n",
       "RESIDENTIAL YARD (FRONT/BACK)                       15478\n",
       "RESIDENCE PORCH/HALLWAY                             14607\n",
       "GAS STATION                                         13659\n",
       "GROCERY FOOD STORE                                  12199\n",
       "RESIDENCE-GARAGE                                    11926\n",
       "SCHOOL, PUBLIC, BUILDING                            10381\n",
       "CONVENIENCE STORE                                    7526\n",
       "BAR OR TAVERN                                        6829\n",
       "CTA TRAIN                                            6812\n",
       "PARK PROPERTY                                        6118\n",
       "COMMERCIAL / BUSINESS OFFICE                         5866\n",
       "HOTEL/MOTEL                                          4495\n",
       "DRUG STORE                                           4291\n",
       "HOSPITAL BUILDING/GROUNDS                            4035\n",
       "CTA STATION                                          3674\n",
       "BANK                                                 3622\n",
       "OTHER (SPECIFY)                                      3428\n",
       "CTA BUS                                              3376\n",
       "CTA PLATFORM                                         3359\n",
       "                                                    ...  \n",
       "GANGWAY                                                 5\n",
       "HOSPITAL                                                5\n",
       "DRIVEWAY                                                4\n",
       "CTA \"L\" PLATFORM                                        4\n",
       "CTA PROPERTY                                            3\n",
       "VEHICLE - COMMERCIAL: ENTERTAINMENT / PARTY BUS         3\n",
       "BARBER SHOP/BEAUTY SALON                                3\n",
       "HORSE STABLE                                            3\n",
       "VESTIBULE                                               3\n",
       "SCHOOL YARD                                             2\n",
       "VEHICLE - COMMERCIAL: TROLLEY BUS                       2\n",
       "CLUB                                                    2\n",
       "WOODED AREA                                             2\n",
       "TAVERN                                                  2\n",
       "CHA HALLWAY                                             2\n",
       "NURSING HOME                                            2\n",
       "RIVER BANK                                              2\n",
       "CHURCH                                                  2\n",
       "OFFICE                                                  2\n",
       "LIQUOR STORE                                            2\n",
       "BASEMENT                                                2\n",
       "GARAGE/AUTO REPAIR                                      2\n",
       "ROOMING HOUSE                                           1\n",
       "CTA SUBWAY STATION                                      1\n",
       "RAILROAD PROPERTY                                       1\n",
       "TRAILER                                                 1\n",
       "CHA PLAY LOT                                            1\n",
       "MOTEL                                                   1\n",
       "GOVERNMENT BUILDING                                     1\n",
       "YMCA                                                    1\n",
       "Length: 182, dtype: int64"
      ]
     },
     "execution_count": 140,
     "metadata": {},
     "output_type": "execute_result"
    }
   ],
   "source": [
    "# What are the most frequent and least frequent locations (given in description) of crimes?\n",
    "df.groupby('location_description').size().sort_values(ascending=False)"
   ]
  },
  {
   "cell_type": "markdown",
   "metadata": {},
   "source": [
    "From 2017-2020, the most frequent locations of crimes is the street in 207815 rows followed by residences and apartments as seen above. On the other hand, we can see that YMCA, government buildings (which is kind of expected) and motels are some of the safest locations."
   ]
  },
  {
   "cell_type": "code",
   "execution_count": 141,
   "metadata": {},
   "outputs": [
    {
     "data": {
      "text/plain": [
       "arrest\n",
       "False    739861\n",
       "True     184122\n",
       "dtype: int64"
      ]
     },
     "execution_count": 141,
     "metadata": {},
     "output_type": "execute_result"
    }
   ],
   "source": [
    "# How many arrests are made from 2017-2020?\n",
    "df.groupby('arrest').size()"
   ]
  },
  {
   "cell_type": "markdown",
   "metadata": {},
   "source": [
    "Wow! There are a lot more criminals that have not been arrested :O"
   ]
  },
  {
   "cell_type": "code",
   "execution_count": 142,
   "metadata": {},
   "outputs": [
    {
     "data": {
      "text/plain": [
       "0.19926989998733743"
      ]
     },
     "execution_count": 142,
     "metadata": {},
     "output_type": "execute_result"
    }
   ],
   "source": [
    "# Percent that have been arrested\n",
    "(df.arrest.value_counts().loc[True]) / (df['arrest'].count())"
   ]
  },
  {
   "cell_type": "markdown",
   "metadata": {},
   "source": [
    "We can see that most people who commited crimes from 2017-2020 have not been arrested. In fact, only about 20 percent of those people have been arrested so far."
   ]
  },
  {
   "cell_type": "code",
   "execution_count": 143,
   "metadata": {},
   "outputs": [
    {
     "data": {
      "text/plain": [
       "domestic\n",
       "False    768070\n",
       "True     155913\n",
       "dtype: int64"
      ]
     },
     "execution_count": 143,
     "metadata": {},
     "output_type": "execute_result"
    }
   ],
   "source": [
    "# How many of the crimes are domestic? \n",
    "df.groupby('domestic').size()"
   ]
  },
  {
   "cell_type": "markdown",
   "metadata": {},
   "source": [
    "We can see that most crimes from 2017-2020 are not domestic."
   ]
  },
  {
   "cell_type": "code",
   "execution_count": 144,
   "metadata": {},
   "outputs": [
    {
     "data": {
      "text/plain": [
       "4.926272985575289"
      ]
     },
     "execution_count": 144,
     "metadata": {},
     "output_type": "execute_result"
    }
   ],
   "source": [
    "# Ratio of Not Domestic to Domestic\n",
    "(df.domestic.value_counts().loc[False]) / (df.domestic.value_counts().loc[True])"
   ]
  },
  {
   "cell_type": "markdown",
   "metadata": {},
   "source": [
    "We can see that a crime object is about 5 times more likely to be non-domestic than domestic."
   ]
  },
  {
   "cell_type": "code",
   "execution_count": 145,
   "metadata": {},
   "outputs": [
    {
     "data": {
      "text/plain": [
       "year\n",
       "2017    264122\n",
       "2018    262797\n",
       "2019    258155\n",
       "2020    138909\n",
       "dtype: int64"
      ]
     },
     "execution_count": 145,
     "metadata": {},
     "output_type": "execute_result"
    }
   ],
   "source": [
    "# Crime distribution over 2017-2020. Any ups and downs?\n",
    "df.groupby('year').size()"
   ]
  },
  {
   "cell_type": "code",
   "execution_count": 146,
   "metadata": {},
   "outputs": [
    {
     "data": {
      "text/plain": [
       "Text(0,0.5,'Crime count')"
      ]
     },
     "execution_count": 146,
     "metadata": {},
     "output_type": "execute_result"
    },
    {
     "data": {
      "image/png": "[encoded data removed]",
      "text/plain": [
       "<Figure size 576x396 with 1 Axes>"
      ]
     },
     "metadata": {},
     "output_type": "display_data"
    }
   ],
   "source": [
    "histoy = df.groupby('year').size().plot.bar(edgecolor='black', linewidth=1)\n",
    "histoy.set_title('Crime Distribution over 2017-2020 (2020 Almost Finished)')\n",
    "histoy.set_ylabel('Crime count')"
   ]
  },
  {
   "cell_type": "markdown",
   "metadata": {},
   "source": [
    "Looking above, we see that yearly total of crime for the past few years have been quite consistent around the 260000 mark. Here, 2020 is taken with a grain of salt since the year is not finished yet. There is a small drop of crime (~4600) from 2018 to 2019."
   ]
  },
  {
   "cell_type": "code",
   "execution_count": 147,
   "metadata": {},
   "outputs": [
    {
     "data": {
      "text/plain": [
       "month\n",
       "1     80759\n",
       "2     72255\n",
       "3     77853\n",
       "4     75671\n",
       "5     88130\n",
       "6     87979\n",
       "7     93013\n",
       "8     92704\n",
       "9     67141\n",
       "10    66103\n",
       "11    60615\n",
       "12    61760\n",
       "dtype: int64"
      ]
     },
     "execution_count": 147,
     "metadata": {},
     "output_type": "execute_result"
    }
   ],
   "source": [
    "# Which months peak in crime counts?\n",
    "df.groupby('month').size()"
   ]
  },
  {
   "cell_type": "code",
   "execution_count": 148,
   "metadata": {},
   "outputs": [
    {
     "data": {
      "text/plain": [
       "Text(0,0.5,'Crime count')"
      ]
     },
     "execution_count": 148,
     "metadata": {},
     "output_type": "execute_result"
    },
    {
     "data": {
      "image/png": "[encoded data removed]",
      "text/plain": [
       "<Figure size 576x396 with 1 Axes>"
      ]
     },
     "metadata": {},
     "output_type": "display_data"
    }
   ],
   "source": [
    "histom = df.groupby('month').size().plot.bar(edgecolor='black', linewidth=1)\n",
    "histom.set_title('Crime Distribution by Month over 2017-2020 (2020 Almost Finished)')\n",
    "histom.set_ylabel('Crime count')\n"
   ]
  },
  {
   "cell_type": "markdown",
   "metadata": {},
   "source": [
    "As we can see, there is a clear peak in crimes commited in the months of July and Auguest in a four year period. This also means that overall, total crime count spanning the 4 years is likely highest in the summer time. This is a total count so does not entail that the average count of crimes per year is highest in those months. (We can investigate that deeper) We also have to take into accout that year 2020 is not finished but almost finished, so the last few months are expected to grow higher."
   ]
  },
  {
   "cell_type": "code",
   "execution_count": 149,
   "metadata": {},
   "outputs": [
    {
     "data": {
      "text/plain": [
       "hour\n",
       "0     43881\n",
       "1     28356\n",
       "2     24346\n",
       "3     20140\n",
       "4     16131\n",
       "5     14155\n",
       "6     16168\n",
       "7     22216\n",
       "8     31693\n",
       "9     41055\n",
       "10    41319\n",
       "11    42765\n",
       "12    55718\n",
       "13    44839\n",
       "14    47506\n",
       "15    51042\n",
       "16    50111\n",
       "17    51088\n",
       "18    53048\n",
       "19    52199\n",
       "20    49000\n",
       "21    45101\n",
       "22    44530\n",
       "23    37576\n",
       "dtype: int64"
      ]
     },
     "execution_count": 149,
     "metadata": {},
     "output_type": "execute_result"
    }
   ],
   "source": [
    "# Which hours peak in crime counts?\n",
    "df.groupby('hour').size()"
   ]
  },
  {
   "cell_type": "code",
   "execution_count": 150,
   "metadata": {},
   "outputs": [
    {
     "data": {
      "text/plain": [
       "Text(0,0.5,'Crime count')"
      ]
     },
     "execution_count": 150,
     "metadata": {},
     "output_type": "execute_result"
    },
    {
     "data": {
      "image/png": "[encoded data removed]",
      "text/plain": [
       "<Figure size 576x396 with 1 Axes>"
      ]
     },
     "metadata": {},
     "output_type": "display_data"
    }
   ],
   "source": [
    "histom = df.groupby('hour').size().plot.bar(edgecolor='black', linewidth=1)\n",
    "histom.set_title('Crime Distribution by Hour over 2017-2020')\n",
    "histom.set_ylabel('Crime count')"
   ]
  },
  {
   "cell_type": "markdown",
   "metadata": {},
   "source": [
    "We can clearly see that highest number of crimes occured mid-day at about lunch time. This is a little surprising as I expected the most crimes to occur at night time right before mid-night or after mid-night. We see from the plot that in fact, crime counts started dropping after mid-night until about 5am and started rising again until mid-day."
   ]
  },
  {
   "cell_type": "code",
   "execution_count": 151,
   "metadata": {},
   "outputs": [
    {
     "data": {
      "text/plain": [
       "dayofweek\n",
       "0    132540\n",
       "1    129239\n",
       "2    129945\n",
       "3    129196\n",
       "4    137527\n",
       "5    134665\n",
       "6    130871\n",
       "dtype: int64"
      ]
     },
     "execution_count": 151,
     "metadata": {},
     "output_type": "execute_result"
    }
   ],
   "source": [
    "# Which day of week peak in crime counts?\n",
    "df.groupby('dayofweek').size()"
   ]
  },
  {
   "cell_type": "code",
   "execution_count": 152,
   "metadata": {},
   "outputs": [
    {
     "data": {
      "text/plain": [
       "Text(0,0.5,'Crime count')"
      ]
     },
     "execution_count": 152,
     "metadata": {},
     "output_type": "execute_result"
    },
    {
     "data": {
      "image/png": "[encoded data removed]",
      "text/plain": [
       "<Figure size 576x396 with 1 Axes>"
      ]
     },
     "metadata": {},
     "output_type": "display_data"
    }
   ],
   "source": [
    "histom = df.groupby('dayofweek').size().plot.bar(edgecolor='black', linewidth=1)\n",
    "histom.set_title('Crime Distribution by Day of Week over 2017-2020')\n",
    "histom.set_ylabel('Crime count')"
   ]
  },
  {
   "cell_type": "markdown",
   "metadata": {},
   "source": [
    "From the values and plots displayed above, there is no noticable big fluctuations in the days that crimes were commited."
   ]
  },
  {
   "cell_type": "code",
   "execution_count": 153,
   "metadata": {},
   "outputs": [
    {
     "data": {
      "text/plain": [
       "weekend\n",
       "False    658447\n",
       "True     265536\n",
       "dtype: int64"
      ]
     },
     "execution_count": 153,
     "metadata": {},
     "output_type": "execute_result"
    }
   ],
   "source": [
    "# Crime commited during weekday and weekend\n",
    "df.groupby('weekend').size()"
   ]
  },
  {
   "cell_type": "markdown",
   "metadata": {},
   "source": [
    "I expected a lot more crimes to be commited during the weekday. After all, weekday consists of 5 days and weekend consists of 2. This is about right on par with my prediction."
   ]
  },
  {
   "cell_type": "code",
   "execution_count": 154,
   "metadata": {},
   "outputs": [
    {
     "data": {
      "text/html": [
       "<div>\n",
       "<style scoped>\n",
       "    .dataframe tbody tr th:only-of-type {\n",
       "        vertical-align: middle;\n",
       "    }\n",
       "\n",
       "    .dataframe tbody tr th {\n",
       "        vertical-align: top;\n",
       "    }\n",
       "\n",
       "    .dataframe thead th {\n",
       "        text-align: right;\n",
       "    }\n",
       "</style>\n",
       "<table border=\"1\" class=\"dataframe\">\n",
       "  <thead>\n",
       "    <tr style=\"text-align: right;\">\n",
       "      <th></th>\n",
       "      <th>CF</th>\n",
       "      <th>CF3</th>\n",
       "      <th>PI</th>\n",
       "      <th>EUH</th>\n",
       "      <th>CH</th>\n",
       "      <th>SOI</th>\n",
       "    </tr>\n",
       "  </thead>\n",
       "  <tbody>\n",
       "    <tr>\n",
       "      <th>count</th>\n",
       "      <td>923983.000000</td>\n",
       "      <td>923983.000000</td>\n",
       "      <td>923983.000000</td>\n",
       "      <td>923983.000000</td>\n",
       "      <td>923983.000000</td>\n",
       "      <td>923983.000000</td>\n",
       "    </tr>\n",
       "    <tr>\n",
       "      <th>mean</th>\n",
       "      <td>-0.031246</td>\n",
       "      <td>-0.096150</td>\n",
       "      <td>-0.017454</td>\n",
       "      <td>0.000685</td>\n",
       "      <td>-0.027245</td>\n",
       "      <td>0.012769</td>\n",
       "    </tr>\n",
       "    <tr>\n",
       "      <th>std</th>\n",
       "      <td>2.412200</td>\n",
       "      <td>1.460084</td>\n",
       "      <td>0.821291</td>\n",
       "      <td>1.091673</td>\n",
       "      <td>0.226276</td>\n",
       "      <td>0.350459</td>\n",
       "    </tr>\n",
       "    <tr>\n",
       "      <th>min</th>\n",
       "      <td>-17.801370</td>\n",
       "      <td>-7.371263</td>\n",
       "      <td>-5.681476</td>\n",
       "      <td>-8.690447</td>\n",
       "      <td>-1.292287</td>\n",
       "      <td>-2.137160</td>\n",
       "    </tr>\n",
       "    <tr>\n",
       "      <th>25%</th>\n",
       "      <td>-0.106877</td>\n",
       "      <td>-0.124749</td>\n",
       "      <td>-0.158914</td>\n",
       "      <td>0.013828</td>\n",
       "      <td>-0.047026</td>\n",
       "      <td>-0.042424</td>\n",
       "    </tr>\n",
       "    <tr>\n",
       "      <th>50%</th>\n",
       "      <td>0.048992</td>\n",
       "      <td>0.033155</td>\n",
       "      <td>0.024743</td>\n",
       "      <td>0.054846</td>\n",
       "      <td>-0.027105</td>\n",
       "      <td>0.010228</td>\n",
       "    </tr>\n",
       "    <tr>\n",
       "      <th>75%</th>\n",
       "      <td>0.255773</td>\n",
       "      <td>0.134522</td>\n",
       "      <td>0.131171</td>\n",
       "      <td>0.089021</td>\n",
       "      <td>-0.001929</td>\n",
       "      <td>0.080689</td>\n",
       "    </tr>\n",
       "    <tr>\n",
       "      <th>max</th>\n",
       "      <td>5.842036</td>\n",
       "      <td>4.228872</td>\n",
       "      <td>2.269077</td>\n",
       "      <td>1.934996</td>\n",
       "      <td>0.942586</td>\n",
       "      <td>1.193183</td>\n",
       "    </tr>\n",
       "  </tbody>\n",
       "</table>\n",
       "</div>"
      ],
      "text/plain": [
       "                  CF            CF3             PI            EUH  \\\n",
       "count  923983.000000  923983.000000  923983.000000  923983.000000   \n",
       "mean       -0.031246      -0.096150      -0.017454       0.000685   \n",
       "std         2.412200       1.460084       0.821291       1.091673   \n",
       "min       -17.801370      -7.371263      -5.681476      -8.690447   \n",
       "25%        -0.106877      -0.124749      -0.158914       0.013828   \n",
       "50%         0.048992       0.033155       0.024743       0.054846   \n",
       "75%         0.255773       0.134522       0.131171       0.089021   \n",
       "max         5.842036       4.228872       2.269077       1.934996   \n",
       "\n",
       "                  CH            SOI  \n",
       "count  923983.000000  923983.000000  \n",
       "mean       -0.027245       0.012769  \n",
       "std         0.226276       0.350459  \n",
       "min        -1.292287      -2.137160  \n",
       "25%        -0.047026      -0.042424  \n",
       "50%        -0.027105       0.010228  \n",
       "75%        -0.001929       0.080689  \n",
       "max         0.942586       1.193183  "
      ]
     },
     "execution_count": 154,
     "metadata": {},
     "output_type": "execute_result"
    }
   ],
   "source": [
    "# Econ data general summary from 2017-2020\n",
    "df[['CF', 'CF3', 'PI', 'EUH', 'CH', 'SOI']].describe()"
   ]
  },
  {
   "cell_type": "code",
   "execution_count": 155,
   "metadata": {},
   "outputs": [
    {
     "data": {
      "image/png": "[encoded data removed]",
      "text/plain": [
       "<Figure size 576x396 with 1 Axes>"
      ]
     },
     "metadata": {},
     "output_type": "display_data"
    }
   ],
   "source": [
    "# Box-plot for CH vs. year\n",
    "box = sns.boxplot(x='year',y='CH',data=df)\n",
    "sns.set(rc={'figure.figsize':(15,10)})"
   ]
  },
  {
   "cell_type": "code",
   "execution_count": 156,
   "metadata": {},
   "outputs": [],
   "source": [
    "# Let's check out some correlations\n",
    "\n"
   ]
  }
 ],
 "metadata": {
  "kernelspec": {
   "display_name": "Python 3",
   "language": "python",
   "name": "python3"
  },
  "language_info": {
   "codemirror_mode": {
    "name": "ipython",
    "version": 3
   },
   "file_extension": ".py",
   "mimetype": "text/x-python",
   "name": "python",
   "nbconvert_exporter": "python",
   "pygments_lexer": "ipython3",
   "version": "3.6.5"
  }
 },
 "nbformat": 4,
 "nbformat_minor": 4
}
