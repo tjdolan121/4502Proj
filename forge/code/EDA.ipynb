{
 "cells": [
  {
   "cell_type": "markdown",
   "metadata": {},
   "source": [
    "# Exploratory Data Analysis"
   ]
  },
  {
   "cell_type": "markdown",
   "metadata": {},
   "source": [
    "## Imports"
   ]
  },
  {
   "cell_type": "code",
   "execution_count": 1,
   "metadata": {},
   "outputs": [],
   "source": [
    "# Std lib:\n",
    "import warnings\n",
    "\n",
    "# Data manipulation:\n",
    "import numpy as np\n",
    "import pandas as pd\n",
    "import geopandas\n",
    "from shapely.geometry import Point, Polygon\n",
    "\n",
    "# Visualization:\n",
    "import matplotlib.pyplot as plt\n",
    "from matplotlib import style\n",
    "import seaborn as sns\n",
    "%matplotlib inline\n",
    "style.use('seaborn')\n",
    "\n",
    "# Display all columns in Jupyter:\n",
    "from IPython.display import display\n",
    "pd.options.display.max_columns = None\n",
    "\n",
    "# Filter Warnings\n",
    "warnings.filterwarnings('ignore')"
   ]
  },
  {
   "cell_type": "markdown",
   "metadata": {},
   "source": [
    "## Pull in the Data"
   ]
  },
  {
   "cell_type": "code",
   "execution_count": 9,
   "metadata": {},
   "outputs": [],
   "source": [
    "datatypes = {'block': 'object',\n",
    "             'iucr': 'object',\n",
    "             'primary_type': 'object',\n",
    "             'description': 'object',\n",
    "             'location_description': 'object',\n",
    "             'arrest': 'bool',\n",
    "             'domestic': 'bool',\n",
    "             'beat': 'int64',\n",
    "             'district': 'float64',\n",
    "             'ward': 'float64',\n",
    "             'community_area': 'int64',\n",
    "             'fbi_code': 'object',\n",
    "             'x_coordinate': 'float64',\n",
    "             'y_coordinate': 'float64',\n",
    "             'year': 'int64',\n",
    "             'latitude': 'float64',\n",
    "             'longitude': 'float64',\n",
    "             'location': 'object',\n",
    "             'month': 'uint8',\n",
    "             'hour': 'uint8',\n",
    "             'dayofweek': 'uint8',\n",
    "             'weekend': 'bool',\n",
    "             'fbi_code_description': 'category',\n",
    "             'CF': 'float64',\n",
    "             'CF3': 'float64',\n",
    "             'PI': 'float64',\n",
    "             'EUH': 'float64',\n",
    "             'CH': 'float64',\n",
    "             'SOI': 'float64'}"
   ]
  },
  {
   "cell_type": "code",
   "execution_count": 10,
   "metadata": {},
   "outputs": [],
   "source": [
    "path_to_data = # Enter your local path to data\n",
    "df = pd.read_csv(path_to_data, dtype=datatypes)"
   ]
  },
  {
   "cell_type": "code",
   "execution_count": 13,
   "metadata": {},
   "outputs": [],
   "source": [
    "## TODO: Convert date to date time object and convert geometry to geopandas geometry object"
   ]
  },
  {
   "cell_type": "code",
   "execution_count": null,
   "metadata": {},
   "outputs": [],
   "source": []
  }
 ],
 "metadata": {
  "kernelspec": {
   "display_name": "Python 3",
   "language": "python",
   "name": "python3"
  },
  "language_info": {
   "codemirror_mode": {
    "name": "ipython",
    "version": 3
   },
   "file_extension": ".py",
   "mimetype": "text/x-python",
   "name": "python",
   "nbconvert_exporter": "python",
   "pygments_lexer": "ipython3",
   "version": "3.7.7"
  }
 },
 "nbformat": 4,
 "nbformat_minor": 4
}
